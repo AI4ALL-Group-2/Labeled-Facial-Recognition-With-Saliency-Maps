{
 "cells": [
  {
   "cell_type": "code",
   "execution_count": 8,
   "metadata": {},
   "outputs": [],
   "source": [
    "import tensorflow as tensorflow\n",
    "from tensorflow.keras.models import Sequential\n",
    "from tensorflow.keras.layers import Dense, Dropout, Activation, Flatten, Conv2D, MaxPooling2D\n",
    "from tensorflow.keras.callbacks import TensorBoard\n",
    "import pickle\n",
    "import time\n",
    "import numpy as np"
   ]
  },
  {
   "cell_type": "code",
   "execution_count": 9,
   "metadata": {},
   "outputs": [],
   "source": [
    "X = pickle.load(open(\"C:/Users/syngu/GitHub/Facial-Recognition/Labeled-Facial-Recognition-With-Saliency-Maps/data/training_feature.pickle\",'rb'))\n",
    "y = pickle.load(open(\"C:/Users/syngu/GitHub/Facial-Recognition/Labeled-Facial-Recognition-With-Saliency-Maps/data/training_label.pickle\",'rb'))\n",
    "\n",
    "X = X/255.0\n",
    "\n",
    "# NAME = f'Facial-detection-cnn-32x2-16x1-{int(time.time())}'\n",
    "# tensorboard = TensorBoard(log_dir='')\n",
    "# The above two lines are used to evaluate accuracy and lost function. Don't worry about them right now"
   ]
  },
  {
   "cell_type": "code",
   "execution_count": 11,
   "metadata": {},
   "outputs": [],
   "source": [
    "model = Sequential()\n",
    "\n",
    "# convolutional layer 1 (2D)\n",
    "model.add(Conv2D(32, (3,3), input_shape = X.shape[1:]))\n",
    "model.add(Activation(\"relu\"))\n",
    "model.add(MaxPooling2D(pool_size=(2,2)))\n",
    "\n",
    "# convolutional layer 2 (2D)\n",
    "model.add(Conv2D(32, (3,3)))\n",
    "model.add(Activation(\"relu\"))\n",
    "model.add(MaxPooling2D(pool_size=(2,2)))\n",
    "\n",
    "# neural network layer 3 (1D)\n",
    "model.add(Flatten())\n",
    "# model.add(Dense(16))\n",
    "# model.add(Activation('relu'))\n",
    "\n",
    "#out put layer\n",
    "model.add(Dense(1))\n",
    "model.add(Activation(\"sigmoid\"))\n",
    "\n",
    "model.compile(loss = \"binary_crossentropy\",\n",
    "                optimizer = \"adam\",\n",
    "                metrics = [\"accuracy\"])"
   ]
  },
  {
   "cell_type": "code",
   "execution_count": 12,
   "metadata": {},
   "outputs": [
    {
     "name": "stdout",
     "output_type": "stream",
     "text": [
      "Epoch 1/3\n",
      "\u001b[1m296/296\u001b[0m \u001b[32m━━━━━━━━━━━━━━━━━━━━\u001b[0m\u001b[37m\u001b[0m \u001b[1m59s\u001b[0m 193ms/step - accuracy: 0.8699 - loss: 0.2704\n",
      "Epoch 2/3\n",
      "\u001b[1m296/296\u001b[0m \u001b[32m━━━━━━━━━━━━━━━━━━━━\u001b[0m\u001b[37m\u001b[0m \u001b[1m62s\u001b[0m 209ms/step - accuracy: 0.9923 - loss: 0.0225\n",
      "Epoch 3/3\n",
      "\u001b[1m296/296\u001b[0m \u001b[32m━━━━━━━━━━━━━━━━━━━━\u001b[0m\u001b[37m\u001b[0m \u001b[1m58s\u001b[0m 196ms/step - accuracy: 0.9962 - loss: 0.0126\n"
     ]
    }
   ],
   "source": [
    "y = np.array(y)\n",
    "model.fit(X, y, batch_size = 32, validation_split = 0.0, epochs = 3)\n",
    "model.save('facial_recognition.keras')"
   ]
  }
 ],
 "metadata": {
  "kernelspec": {
   "display_name": "Python 3",
   "language": "python",
   "name": "python3"
  },
  "language_info": {
   "codemirror_mode": {
    "name": "ipython",
    "version": 3
   },
   "file_extension": ".py",
   "mimetype": "text/x-python",
   "name": "python",
   "nbconvert_exporter": "python",
   "pygments_lexer": "ipython3",
   "version": "3.12.2"
  }
 },
 "nbformat": 4,
 "nbformat_minor": 2
}
