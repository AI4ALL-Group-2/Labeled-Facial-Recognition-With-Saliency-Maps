{
 "cells": [
  {
   "cell_type": "code",
   "execution_count": null,
   "metadata": {},
   "outputs": [],
   "source": [
    "# Import neccessary library\n",
    "import numpy as np                  # for matrix and vector\n",
    "import matplotlib.pyplot as plt     # for data visualization\n",
    "import os                           # for search file directory\n",
    "import cv2                          # for reading images"
   ]
  },
  {
   "cell_type": "code",
   "execution_count": null,
   "metadata": {},
   "outputs": [],
   "source": [
    "# Directory of your file, \n",
    "# example = C:/Users/syngu/OneDrive/Work/CSULB/MarinaHackathon/Apple Prediction/training/\n",
    "DATADIR = \"\"\n",
    "# The file name within your directory. For instance, if in your directory has two folders named \"apple\", and \"not_apple\"\n",
    "CATEGORIES = [\"apple\",\"not_apple\"]\n",
    "\n",
    "# give a fixed image size since every image come in different sizes\n",
    "IMG_SIZE = 100\n",
    "\n"
   ]
  },
  {
   "cell_type": "code",
   "execution_count": null,
   "metadata": {},
   "outputs": [],
   "source": [
    "training_data =[]\n",
    "\n",
    "def create_training_data():\n",
    "    for category in CATEGORIES:                     \n",
    "        path = os.path.join(DATADIR, category)  #join the path of the directory to each folder\n",
    "        class_num = CATEGORIES.index(category)  # get a number for classification (0,1) in this case\n",
    "        for img in os.listdir(path):\n",
    "            try:\n",
    "                img_array = cv2.imread(os.path.join(path,img),cv2.IMREAD_GRAYSCALE) # read in the image, we gonna eleminate the color by using grayscale\n",
    "                new_array = cv2.resize(img_array, (IMG_SIZE, IMG_SIZE))    # resize the image with the prefix size\n",
    "                training_data.append([new_array,class_num])\n",
    "            except:\n",
    "                pass\n",
    "\n",
    "create_training_data()\n"
   ]
  },
  {
   "cell_type": "code",
   "execution_count": null,
   "metadata": {},
   "outputs": [],
   "source": [
    "import random # to shuffle the data for randomness\n",
    "\n",
    "random.shuffle(training_data)"
   ]
  },
  {
   "cell_type": "code",
   "execution_count": null,
   "metadata": {},
   "outputs": [],
   "source": [
    "X = [] \n",
    "y = []\n",
    "\n",
    "for features, label in training_data:\n",
    "    X.append(features)\n",
    "    y.append(label)\n",
    "\n",
    "X = np.array(X).reshape(-1,IMG_SIZE, IMG_SIZE, 1) #reshape the matrix into the same size as image\n",
    "# -1 means there can be any amount of features\n",
    "# IMG_SIZE x IMG_SIZE: matrix size\n",
    "# 1 means grayscale"
   ]
  }
 ],
 "metadata": {
  "kernelspec": {
   "display_name": "Python 3",
   "language": "python",
   "name": "python3"
  },
  "language_info": {
   "name": "python",
   "version": "3.12.2"
  }
 },
 "nbformat": 4,
 "nbformat_minor": 2
}
