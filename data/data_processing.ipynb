{
 "cells": [
  {
   "cell_type": "code",
   "execution_count": 18,
   "metadata": {},
   "outputs": [],
   "source": [
    "# Import neccessary library\n",
    "import numpy as np                  # for matrix and vector\n",
    "import matplotlib.pyplot as plt     # for data visualization\n",
    "import os                           # for search file directory\n",
    "import cv2                          # for reading images\n",
    "from sklearn.model_selection import train_test_split\n"
   ]
  },
  {
   "cell_type": "code",
   "execution_count": 19,
   "metadata": {},
   "outputs": [],
   "source": [
    "# Directory of your file, \n",
    "# example = C:/Users/syngu/OneDrive/Work/CSULB/MarinaHackathon/Apple Prediction/training/\n",
    "DATADIR = \"C:/Users/syngu/GitHub/Facial Recognition/data img\"\n",
    "# The file name within your directory. For instance, if in your directory has two folders named \"apple\", and \"not_apple\"\n",
    "CATEGORIES = [\"isface\",\"notface\"]\n",
    "\n",
    "# give a fixed image size since every image come in different sizes\n",
    "IMG_SIZE = 100\n",
    "\n"
   ]
  },
  {
   "cell_type": "code",
   "execution_count": 20,
   "metadata": {},
   "outputs": [],
   "source": [
    "training_data =[]\n",
    "\n",
    "def create_training_data():\n",
    "    for category in CATEGORIES:                     \n",
    "        path = os.path.join(DATADIR, category)  #join the path of the directory to each folder\n",
    "        class_num = CATEGORIES.index(category)  # get a number for classification (0,1) in this case\n",
    "        for img in os.listdir(path):\n",
    "            try:\n",
    "                img_array = cv2.imread(os.path.join(path,img),cv2.IMREAD_GRAYSCALE) # read in the image, we gonna eleminate the color by using grayscale\n",
    "                new_array = cv2.resize(img_array, (IMG_SIZE, IMG_SIZE))    # resize the image with the prefix size\n",
    "                training_data.append([new_array,class_num])\n",
    "            except:\n",
    "                pass\n",
    "\n",
    "create_training_data()\n"
   ]
  },
  {
   "cell_type": "code",
   "execution_count": 21,
   "metadata": {},
   "outputs": [],
   "source": [
    "import random # to shuffle the data for randomness\n",
    "\n",
    "random.shuffle(training_data)"
   ]
  },
  {
   "cell_type": "code",
   "execution_count": 24,
   "metadata": {},
   "outputs": [
    {
     "name": "stdout",
     "output_type": "stream",
     "text": [
      "9460\n",
      "9460\n",
      "2366\n",
      "2366\n"
     ]
    }
   ],
   "source": [
    "X = [] \n",
    "y = []\n",
    "\n",
    "for features, label in training_data:\n",
    "    X.append(features)\n",
    "    y.append(label)\n",
    "\n",
    "X = np.array(X).reshape(-1,IMG_SIZE, IMG_SIZE, 1) #reshape the matrix into the same size as image\n",
    "# -1 means there can be any amount of features\n",
    "# IMG_SIZE x IMG_SIZE: matrix size\n",
    "# 1 means grayscale\n",
    "\n",
    "X_train, X_test, y_train, y_test = train_test_split(X, y, test_size=0.2, random_state=42)\n",
    "\n",
    "print(len(X_train))\n",
    "print(len(y_train))\n",
    "print(len(X_test))\n",
    "print(len(y_test))\n"
   ]
  },
  {
   "cell_type": "code",
   "execution_count": 25,
   "metadata": {},
   "outputs": [],
   "source": [
    "import pickle\n",
    "\n",
    "pickle_out = open(\"training_feature.pickle\", \"wb\")\n",
    "pickle.dump(X_train, pickle_out)\n",
    "pickle_out.close()\n",
    "pickle_out = open(\"training_label.pickle\", \"wb\")\n",
    "pickle.dump(y_train, pickle_out)\n",
    "pickle_out.close()\n",
    "\n",
    "\n",
    "pickle_out = open(\"testing_feature.pickle\", \"wb\")\n",
    "pickle.dump(X_test, pickle_out)\n",
    "pickle_out.close()\n",
    "pickle_out = open(\"testing_label.pickle\", \"wb\")\n",
    "pickle.dump(y_test, pickle_out)\n",
    "pickle_out.close()\n"
   ]
  },
  {
   "cell_type": "code",
   "execution_count": null,
   "metadata": {},
   "outputs": [],
   "source": []
  }
 ],
 "metadata": {
  "kernelspec": {
   "display_name": "Python 3",
   "language": "python",
   "name": "python3"
  },
  "language_info": {
   "codemirror_mode": {
    "name": "ipython",
    "version": 3
   },
   "file_extension": ".py",
   "mimetype": "text/x-python",
   "name": "python",
   "nbconvert_exporter": "python",
   "pygments_lexer": "ipython3",
   "version": "3.12.2"
  }
 },
 "nbformat": 4,
 "nbformat_minor": 2
}
